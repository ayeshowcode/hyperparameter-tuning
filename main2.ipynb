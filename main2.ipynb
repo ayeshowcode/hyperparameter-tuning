{
 "cells": [
  {
   "cell_type": "markdown",
   "id": "f63b0e1c",
   "metadata": {},
   "source": [
    "# Hyperparameter Tuning for Neural Networks - Step by Step\n",
    "\n",
    "## What we'll learn:\n",
    "1. **What are hyperparameters?** - Settings we choose before training (like learning rate, number of layers)\n",
    "2. **Why tune them?** - To get the best performance from our model\n",
    "3. **How to automate the process** - Using Keras Tuner to try different combinations\n",
    "4. **Key hyperparameters to tune:**\n",
    "   - Optimizer (Adam, SGD, RMSprop)\n",
    "   - Number of hidden layers\n",
    "   - Number of neurons in each layer\n",
    "   - Learning rate\n",
    "   - Batch size\n",
    "\n",
    "Let's start!"
   ]
  },
  {
   "cell_type": "code",
   "execution_count": 1,
   "id": "6bd2ea4e",
   "metadata": {},
   "outputs": [],
   "source": [
    "import pandas as pd \n",
    "import numpy as np"
   ]
  },
  {
   "cell_type": "code",
   "execution_count": 2,
   "id": "58805b98",
   "metadata": {},
   "outputs": [
    {
     "name": "stdout",
     "output_type": "stream",
     "text": [
      "Dataset loaded successfully! Shape: (768, 9)\n"
     ]
    }
   ],
   "source": [
    "# Load the diabetes dataset\n",
    "df = pd.read_csv('diabetes.csv')\n",
    "print(f\"Dataset loaded successfully! Shape: {df.shape}\")"
   ]
  },
  {
   "cell_type": "code",
   "execution_count": 3,
   "id": "476713cc",
   "metadata": {},
   "outputs": [
    {
     "name": "stdout",
     "output_type": "stream",
     "text": [
      "First 5 rows of the dataset:\n"
     ]
    },
    {
     "data": {
      "text/html": [
       "<div>\n",
       "<style scoped>\n",
       "    .dataframe tbody tr th:only-of-type {\n",
       "        vertical-align: middle;\n",
       "    }\n",
       "\n",
       "    .dataframe tbody tr th {\n",
       "        vertical-align: top;\n",
       "    }\n",
       "\n",
       "    .dataframe thead th {\n",
       "        text-align: right;\n",
       "    }\n",
       "</style>\n",
       "<table border=\"1\" class=\"dataframe\">\n",
       "  <thead>\n",
       "    <tr style=\"text-align: right;\">\n",
       "      <th></th>\n",
       "      <th>Pregnancies</th>\n",
       "      <th>Glucose</th>\n",
       "      <th>BloodPressure</th>\n",
       "      <th>SkinThickness</th>\n",
       "      <th>Insulin</th>\n",
       "      <th>BMI</th>\n",
       "      <th>DiabetesPedigreeFunction</th>\n",
       "      <th>Age</th>\n",
       "      <th>Outcome</th>\n",
       "    </tr>\n",
       "  </thead>\n",
       "  <tbody>\n",
       "    <tr>\n",
       "      <th>0</th>\n",
       "      <td>6</td>\n",
       "      <td>148</td>\n",
       "      <td>72</td>\n",
       "      <td>35</td>\n",
       "      <td>0</td>\n",
       "      <td>33.6</td>\n",
       "      <td>0.627</td>\n",
       "      <td>50</td>\n",
       "      <td>1</td>\n",
       "    </tr>\n",
       "    <tr>\n",
       "      <th>1</th>\n",
       "      <td>1</td>\n",
       "      <td>85</td>\n",
       "      <td>66</td>\n",
       "      <td>29</td>\n",
       "      <td>0</td>\n",
       "      <td>26.6</td>\n",
       "      <td>0.351</td>\n",
       "      <td>31</td>\n",
       "      <td>0</td>\n",
       "    </tr>\n",
       "    <tr>\n",
       "      <th>2</th>\n",
       "      <td>8</td>\n",
       "      <td>183</td>\n",
       "      <td>64</td>\n",
       "      <td>0</td>\n",
       "      <td>0</td>\n",
       "      <td>23.3</td>\n",
       "      <td>0.672</td>\n",
       "      <td>32</td>\n",
       "      <td>1</td>\n",
       "    </tr>\n",
       "    <tr>\n",
       "      <th>3</th>\n",
       "      <td>1</td>\n",
       "      <td>89</td>\n",
       "      <td>66</td>\n",
       "      <td>23</td>\n",
       "      <td>94</td>\n",
       "      <td>28.1</td>\n",
       "      <td>0.167</td>\n",
       "      <td>21</td>\n",
       "      <td>0</td>\n",
       "    </tr>\n",
       "    <tr>\n",
       "      <th>4</th>\n",
       "      <td>0</td>\n",
       "      <td>137</td>\n",
       "      <td>40</td>\n",
       "      <td>35</td>\n",
       "      <td>168</td>\n",
       "      <td>43.1</td>\n",
       "      <td>2.288</td>\n",
       "      <td>33</td>\n",
       "      <td>1</td>\n",
       "    </tr>\n",
       "  </tbody>\n",
       "</table>\n",
       "</div>"
      ],
      "text/plain": [
       "   Pregnancies  Glucose  BloodPressure  SkinThickness  Insulin   BMI  \\\n",
       "0            6      148             72             35        0  33.6   \n",
       "1            1       85             66             29        0  26.6   \n",
       "2            8      183             64              0        0  23.3   \n",
       "3            1       89             66             23       94  28.1   \n",
       "4            0      137             40             35      168  43.1   \n",
       "\n",
       "   DiabetesPedigreeFunction  Age  Outcome  \n",
       "0                     0.627   50        1  \n",
       "1                     0.351   31        0  \n",
       "2                     0.672   32        1  \n",
       "3                     0.167   21        0  \n",
       "4                     2.288   33        1  "
      ]
     },
     "execution_count": 3,
     "metadata": {},
     "output_type": "execute_result"
    }
   ],
   "source": [
    "# Explore the first few rows of the dataset\n",
    "print(\"First 5 rows of the dataset:\")\n",
    "df.head()"
   ]
  },
  {
   "cell_type": "code",
   "execution_count": 4,
   "id": "5ee15e90",
   "metadata": {},
   "outputs": [
    {
     "name": "stdout",
     "output_type": "stream",
     "text": [
      "Correlation with target variable (Outcome):\n",
      "Outcome                     1.000000\n",
      "Glucose                     0.466581\n",
      "BMI                         0.292695\n",
      "Age                         0.238356\n",
      "Pregnancies                 0.221898\n",
      "DiabetesPedigreeFunction    0.173844\n",
      "Insulin                     0.130548\n",
      "SkinThickness               0.074752\n",
      "BloodPressure               0.065068\n",
      "Name: Outcome, dtype: float64\n"
     ]
    }
   ],
   "source": [
    "# Check correlation of features with the target variable (Outcome)\n",
    "print(\"Correlation with target variable (Outcome):\")\n",
    "correlations = df.corr()['Outcome'].sort_values(key=abs, ascending=False)\n",
    "print(correlations)"
   ]
  },
  {
   "cell_type": "code",
   "execution_count": 5,
   "id": "662e87fa",
   "metadata": {},
   "outputs": [
    {
     "name": "stdout",
     "output_type": "stream",
     "text": [
      "Features shape: (768, 8)\n",
      "Target shape: (768,)\n",
      "Target distribution: [500 268]\n"
     ]
    }
   ],
   "source": [
    "# Separate features (X) and target variable (y)\n",
    "X = df.iloc[:,:-1].values  # All columns except the last one (features)\n",
    "y = df.iloc[:,-1].values   # Last column (target: Outcome)\n",
    "\n",
    "print(f\"Features shape: {X.shape}\")\n",
    "print(f\"Target shape: {y.shape}\")\n",
    "print(f\"Target distribution: {np.bincount(y)}\")  # Count of 0s and 1s"
   ]
  },
  {
   "cell_type": "code",
   "execution_count": 6,
   "id": "6d6ed20b",
   "metadata": {},
   "outputs": [
    {
     "name": "stdout",
     "output_type": "stream",
     "text": [
      "StandardScaler initialized successfully!\n"
     ]
    }
   ],
   "source": [
    "# Initialize StandardScaler for feature normalization\n",
    "# Neural networks work better with normalized features\n",
    "from sklearn.preprocessing import StandardScaler\n",
    "scaler = StandardScaler()\n",
    "print(\"StandardScaler initialized successfully!\")"
   ]
  },
  {
   "cell_type": "code",
   "execution_count": null,
   "id": "75c378b3",
   "metadata": {},
   "outputs": [],
   "source": [
    "# Scale the features to have mean=0 and std=1\n",
    "# This helps neural networks train more effectively\n",
    "X = scaler.fit_transform(X)\n",
    "print(\"Features scaled successfully!\")\n",
    "print(f\"Feature means after scaling: {X.mean(axis=0).round(6)}\")\n",
    "print(f\"Feature std after scaling: {X.std(axis=0).round(6)}\")"
   ]
  },
  {
   "cell_type": "code",
   "execution_count": 10,
   "id": "c8bc91ce",
   "metadata": {},
   "outputs": [],
   "source": [
    "from sklearn.model_selection import train_test_split"
   ]
  },
  {
   "cell_type": "code",
   "execution_count": 11,
   "id": "49f78aee",
   "metadata": {},
   "outputs": [],
   "source": [
    "X_train, X_test, y_train, y_test = train_test_split(X, y, test_size=0.2, random_state=42)\n"
   ]
  },
  {
   "cell_type": "code",
   "execution_count": 12,
   "id": "b9a0b4d1",
   "metadata": {},
   "outputs": [],
   "source": [
    "import tensorflow as tf\n",
    "from tensorflow import keras\n",
    "from keras import Sequential\n",
    "from keras.layers import Dense"
   ]
  },
  {
   "cell_type": "code",
   "execution_count": 13,
   "id": "cc1cd8b5",
   "metadata": {},
   "outputs": [],
   "source": [
    "model = Sequential()"
   ]
  },
  {
   "cell_type": "code",
   "execution_count": 14,
   "id": "8419e35a",
   "metadata": {},
   "outputs": [],
   "source": [
    "# Add layers to the model\n",
    "# Using Input layer to avoid deprecation warning\n",
    "from keras.layers import Input\n",
    "\n",
    "model.add(Input(shape=(8,)))  # Input layer for 8 features\n",
    "model.add(Dense(32, activation='relu'))  # Hidden layer with 32 neurons\n",
    "model.add(Dense(1, activation='sigmoid'))  # Output layer for binary classification"
   ]
  },
  {
   "cell_type": "code",
   "execution_count": 15,
   "id": "008d2b93",
   "metadata": {},
   "outputs": [],
   "source": [
    "model.compile(optimizer='adam', loss='binary_crossentropy', metrics=['accuracy'])"
   ]
  },
  {
   "cell_type": "code",
   "execution_count": null,
   "id": "682e2ab3",
   "metadata": {},
   "outputs": [
    {
     "name": "stdout",
     "output_type": "stream",
     "text": [
      "Epoch 1/10\n",
      "\u001b[1m16/16\u001b[0m \u001b[32m━━━━━━━━━━━━━━━━━━━━\u001b[0m\u001b[37m\u001b[0m \u001b[1m1s\u001b[0m 17ms/step - accuracy: 0.6090 - loss: 0.6782 - val_accuracy: 0.6585 - val_loss: 0.6535\n",
      "Epoch 2/10\n",
      "\u001b[1m16/16\u001b[0m \u001b[32m━━━━━━━━━━━━━━━━━━━━\u001b[0m\u001b[37m\u001b[0m \u001b[1m1s\u001b[0m 17ms/step - accuracy: 0.6090 - loss: 0.6782 - val_accuracy: 0.6585 - val_loss: 0.6535\n",
      "Epoch 2/10\n",
      "\u001b[1m16/16\u001b[0m \u001b[32m━━━━━━━━━━━━━━━━━━━━\u001b[0m\u001b[37m\u001b[0m \u001b[1m0s\u001b[0m 6ms/step - accuracy: 0.6945 - loss: 0.6293 - val_accuracy: 0.7073 - val_loss: 0.6241\n",
      "Epoch 3/10\n",
      "\u001b[1m16/16\u001b[0m \u001b[32m━━━━━━━━━━━━━━━━━━━━\u001b[0m\u001b[37m\u001b[0m \u001b[1m0s\u001b[0m 6ms/step - accuracy: 0.6945 - loss: 0.6293 - val_accuracy: 0.7073 - val_loss: 0.6241\n",
      "Epoch 3/10\n",
      "\u001b[1m16/16\u001b[0m \u001b[32m━━━━━━━━━━━━━━━━━━━━\u001b[0m\u001b[37m\u001b[0m \u001b[1m0s\u001b[0m 6ms/step - accuracy: 0.7373 - loss: 0.5926 - val_accuracy: 0.7154 - val_loss: 0.6000\n",
      "Epoch 4/10\n",
      "\u001b[1m16/16\u001b[0m \u001b[32m━━━━━━━━━━━━━━━━━━━━\u001b[0m\u001b[37m\u001b[0m \u001b[1m0s\u001b[0m 6ms/step - accuracy: 0.7373 - loss: 0.5926 - val_accuracy: 0.7154 - val_loss: 0.6000\n",
      "Epoch 4/10\n",
      "\u001b[1m16/16\u001b[0m \u001b[32m━━━━━━━━━━━━━━━━━━━━\u001b[0m\u001b[37m\u001b[0m \u001b[1m0s\u001b[0m 6ms/step - accuracy: 0.7495 - loss: 0.5633 - val_accuracy: 0.7317 - val_loss: 0.5803\n",
      "Epoch 5/10\n",
      "\u001b[1m16/16\u001b[0m \u001b[32m━━━━━━━━━━━━━━━━━━━━\u001b[0m\u001b[37m\u001b[0m \u001b[1m0s\u001b[0m 6ms/step - accuracy: 0.7495 - loss: 0.5633 - val_accuracy: 0.7317 - val_loss: 0.5803\n",
      "Epoch 5/10\n",
      "\u001b[1m16/16\u001b[0m \u001b[32m━━━━━━━━━━━━━━━━━━━━\u001b[0m\u001b[37m\u001b[0m \u001b[1m0s\u001b[0m 6ms/step - accuracy: 0.7536 - loss: 0.5402 - val_accuracy: 0.7236 - val_loss: 0.5636\n",
      "Epoch 6/10\n",
      "\u001b[1m16/16\u001b[0m \u001b[32m━━━━━━━━━━━━━━━━━━━━\u001b[0m\u001b[37m\u001b[0m \u001b[1m0s\u001b[0m 6ms/step - accuracy: 0.7536 - loss: 0.5402 - val_accuracy: 0.7236 - val_loss: 0.5636\n",
      "Epoch 6/10\n",
      "\u001b[1m16/16\u001b[0m \u001b[32m━━━━━━━━━━━━━━━━━━━━\u001b[0m\u001b[37m\u001b[0m \u001b[1m0s\u001b[0m 6ms/step - accuracy: 0.7597 - loss: 0.5226 - val_accuracy: 0.7073 - val_loss: 0.5505\n",
      "Epoch 7/10\n",
      "\u001b[1m16/16\u001b[0m \u001b[32m━━━━━━━━━━━━━━━━━━━━\u001b[0m\u001b[37m\u001b[0m \u001b[1m0s\u001b[0m 6ms/step - accuracy: 0.7597 - loss: 0.5226 - val_accuracy: 0.7073 - val_loss: 0.5505\n",
      "Epoch 7/10\n",
      "\u001b[1m16/16\u001b[0m \u001b[32m━━━━━━━━━━━━━━━━━━━━\u001b[0m\u001b[37m\u001b[0m \u001b[1m0s\u001b[0m 6ms/step - accuracy: 0.7576 - loss: 0.5074 - val_accuracy: 0.7154 - val_loss: 0.5401\n",
      "Epoch 8/10\n",
      "\u001b[1m16/16\u001b[0m \u001b[32m━━━━━━━━━━━━━━━━━━━━\u001b[0m\u001b[37m\u001b[0m \u001b[1m0s\u001b[0m 6ms/step - accuracy: 0.7576 - loss: 0.5074 - val_accuracy: 0.7154 - val_loss: 0.5401\n",
      "Epoch 8/10\n",
      "\u001b[1m16/16\u001b[0m \u001b[32m━━━━━━━━━━━━━━━━━━━━\u001b[0m\u001b[37m\u001b[0m \u001b[1m0s\u001b[0m 7ms/step - accuracy: 0.7576 - loss: 0.4966 - val_accuracy: 0.7236 - val_loss: 0.5320\n",
      "Epoch 9/10\n",
      "\u001b[1m16/16\u001b[0m \u001b[32m━━━━━━━━━━━━━━━━━━━━\u001b[0m\u001b[37m\u001b[0m \u001b[1m0s\u001b[0m 7ms/step - accuracy: 0.7576 - loss: 0.4966 - val_accuracy: 0.7236 - val_loss: 0.5320\n",
      "Epoch 9/10\n",
      "\u001b[1m16/16\u001b[0m \u001b[32m━━━━━━━━━━━━━━━━━━━━\u001b[0m\u001b[37m\u001b[0m \u001b[1m0s\u001b[0m 6ms/step - accuracy: 0.7617 - loss: 0.4872 - val_accuracy: 0.7236 - val_loss: 0.5247\n",
      "Epoch 10/10\n",
      "\u001b[1m16/16\u001b[0m \u001b[32m━━━━━━━━━━━━━━━━━━━━\u001b[0m\u001b[37m\u001b[0m \u001b[1m0s\u001b[0m 6ms/step - accuracy: 0.7617 - loss: 0.4872 - val_accuracy: 0.7236 - val_loss: 0.5247\n",
      "Epoch 10/10\n",
      "\u001b[1m16/16\u001b[0m \u001b[32m━━━━━━━━━━━━━━━━━━━━\u001b[0m\u001b[37m\u001b[0m \u001b[1m0s\u001b[0m 6ms/step - accuracy: 0.7658 - loss: 0.4791 - val_accuracy: 0.7236 - val_loss: 0.5184\n",
      "\u001b[1m16/16\u001b[0m \u001b[32m━━━━━━━━━━━━━━━━━━━━\u001b[0m\u001b[37m\u001b[0m \u001b[1m0s\u001b[0m 6ms/step - accuracy: 0.7658 - loss: 0.4791 - val_accuracy: 0.7236 - val_loss: 0.5184\n"
     ]
    },
    {
     "data": {
      "text/plain": [
       "<keras.src.callbacks.history.History at 0x23903206190>"
      ]
     },
     "execution_count": 16,
     "metadata": {},
     "output_type": "execute_result"
    }
   ],
   "source": [
    "# Train the baseline model\n",
    "print(\"Training baseline model...\")\n",
    "history_baseline = model.fit(X_train, y_train, epochs=10, batch_size=32, validation_split=0.2, verbose=1)\n",
    "\n",
    "# Evaluate baseline model\n",
    "baseline_loss, baseline_accuracy = model.evaluate(X_test, y_test, verbose=0)\n",
    "print(f\"\\n=== Baseline Model Results ===\")\n",
    "print(f\"Baseline Test Loss: {baseline_loss:.4f}\")\n",
    "print(f\"Baseline Test Accuracy: {baseline_accuracy:.4f} ({baseline_accuracy*100:.2f}%)\")"
   ]
  },
  {
   "cell_type": "markdown",
   "id": "97cbf743",
   "metadata": {},
   "source": [
    "## 🧪 Baseline Model (Before Hyperparameter Tuning)\n",
    "\n",
    "Let's first create a simple baseline model to see how it performs without any optimization:"
   ]
  },
  {
   "cell_type": "code",
   "execution_count": 17,
   "id": "cd61dbe5",
   "metadata": {},
   "outputs": [],
   "source": [
    "import keras_tuner as kt"
   ]
  },
  {
   "cell_type": "markdown",
   "id": "eb5e544d",
   "metadata": {},
   "source": [
    "## 🚀 Hyperparameter Tuning with Keras Tuner\n",
    "\n",
    "Now let's use automated hyperparameter tuning to find the optimal settings for our neural network!"
   ]
  },
  {
   "cell_type": "code",
   "execution_count": null,
   "id": "e8186f75",
   "metadata": {},
   "outputs": [],
   "source": [
    "def build_model(hp):\n",
    "    \"\"\"\n",
    "    Build a neural network model with hyperparameters to tune.\n",
    "    \n",
    "    Hyperparameters to optimize:\n",
    "    - Number of hidden nodes (16-128)\n",
    "    - Optimizer type (Adam, SGD, RMSprop, Adadelta)  \n",
    "    - Learning rate (0.0001-0.01)\n",
    "    \"\"\"\n",
    "    model = Sequential()\n",
    "    \n",
    "    # Add input layer to avoid deprecation warnings\n",
    "    model.add(Input(shape=(8,)))\n",
    "    \n",
    "    # Tune the number of hidden nodes\n",
    "    hidden_nodes = hp.Int('hidden_nodes', min_value=16, max_value=128, step=16)\n",
    "    model.add(Dense(hidden_nodes, activation='relu'))\n",
    "    \n",
    "    # Output layer for binary classification\n",
    "    model.add(Dense(1, activation='sigmoid'))\n",
    "\n",
    "    # Tune the optimizer type\n",
    "    optimizer = hp.Choice('optimizer', values=['adam', 'sgd', 'rmsprop', 'adadelta'])\n",
    "    \n",
    "    # Tune the learning rate\n",
    "    learning_rate = hp.Float('learning_rate', min_value=0.0001, max_value=0.01, sampling='LOG')\n",
    "    \n",
    "    # Configure the optimizer with the tuned learning rate\n",
    "    if optimizer == 'adam':\n",
    "        opt = tf.keras.optimizers.Adam(learning_rate=learning_rate)\n",
    "    elif optimizer == 'sgd':\n",
    "        opt = tf.keras.optimizers.SGD(learning_rate=learning_rate)\n",
    "    elif optimizer == 'rmsprop':\n",
    "        opt = tf.keras.optimizers.RMSprop(learning_rate=learning_rate)\n",
    "    elif optimizer == 'adadelta':\n",
    "        opt = tf.keras.optimizers.Adadelta(learning_rate=learning_rate)\n",
    "\n",
    "    # Compile the model\n",
    "    model.compile(optimizer=opt, loss='binary_crossentropy', metrics=['accuracy'])\n",
    "\n",
    "    return model\n",
    "\n",
    "print(\"Hyperparameter tuning function defined successfully!\")"
   ]
  },
  {
   "cell_type": "code",
   "execution_count": 18,
   "id": "0bb2102d",
   "metadata": {},
   "outputs": [
    {
     "ename": "NameError",
     "evalue": "name 'build_model' is not defined",
     "output_type": "error",
     "traceback": [
      "\u001b[31m---------------------------------------------------------------------------\u001b[39m",
      "\u001b[31mNameError\u001b[39m                                 Traceback (most recent call last)",
      "\u001b[36mCell\u001b[39m\u001b[36m \u001b[39m\u001b[32mIn[18]\u001b[39m\u001b[32m, line 3\u001b[39m\n\u001b[32m      1\u001b[39m \u001b[38;5;66;03m# Create hyperparameter tuner\u001b[39;00m\n\u001b[32m      2\u001b[39m tuner = kt.RandomSearch(\n\u001b[32m----> \u001b[39m\u001b[32m3\u001b[39m     \u001b[43mbuild_model\u001b[49m,\n\u001b[32m      4\u001b[39m     objective=\u001b[33m'\u001b[39m\u001b[33mval_accuracy\u001b[39m\u001b[33m'\u001b[39m,  \n\u001b[32m      5\u001b[39m     max_trials=\u001b[32m5\u001b[39m,\n\u001b[32m      6\u001b[39m     directory=\u001b[33m'\u001b[39m\u001b[33mtuner_results\u001b[39m\u001b[33m'\u001b[39m,\n\u001b[32m      7\u001b[39m     project_name=\u001b[33m'\u001b[39m\u001b[33mdiabetes_hyperparameter_tuning\u001b[39m\u001b[33m'\u001b[39m\n\u001b[32m      8\u001b[39m )\n\u001b[32m     10\u001b[39m \u001b[38;5;28mprint\u001b[39m(\u001b[33m\"\u001b[39m\u001b[33mTuner created successfully!\u001b[39m\u001b[33m\"\u001b[39m)\n",
      "\u001b[31mNameError\u001b[39m: name 'build_model' is not defined"
     ]
    }
   ],
   "source": [
    "# Create hyperparameter tuner\n",
    "tuner = kt.RandomSearch(\n",
    "    build_model,\n",
    "    objective='val_accuracy',  \n",
    "    max_trials=5,\n",
    "    directory='tuner_results',\n",
    "    project_name='diabetes_hyperparameter_tuning'\n",
    ")\n",
    "\n",
    "print(\"Tuner created successfully!\")"
   ]
  },
  {
   "cell_type": "code",
   "execution_count": null,
   "id": "d036e441",
   "metadata": {},
   "outputs": [],
   "source": [
    "# Start the hyperparameter search\n",
    "# This will try different combinations of hyperparameters to find the best ones\n",
    "print(\"Starting hyperparameter search...\")\n",
    "tuner.search(X_train, y_train, epochs=5, validation_data=(X_test, y_test))\n",
    "print(\"Search completed!\")"
   ]
  },
  {
   "cell_type": "code",
   "execution_count": null,
   "id": "ef1d9c78",
   "metadata": {},
   "outputs": [],
   "source": [
    "# Get the best hyperparameters found during the search\n",
    "best_hyperparameters = tuner.get_best_hyperparameters()[0]\n",
    "\n",
    "print(\"Best hyperparameters found:\")\n",
    "print(f\"Hidden nodes: {best_hyperparameters.get('hidden_nodes')}\")\n",
    "print(f\"Optimizer: {best_hyperparameters.get('optimizer')}\")\n",
    "print(f\"Learning rate: {best_hyperparameters.get('learning_rate'):.6f}\")"
   ]
  },
  {
   "cell_type": "code",
   "execution_count": null,
   "id": "a55bf4d9",
   "metadata": {},
   "outputs": [],
   "source": [
    "# Get the best model with the optimal hyperparameters\n",
    "best_model = tuner.get_best_models(num_models=1)[0]\n",
    "print(\"Best model retrieved successfully!\")"
   ]
  },
  {
   "cell_type": "code",
   "execution_count": null,
   "id": "9c54afdf",
   "metadata": {},
   "outputs": [],
   "source": [
    "# Display the architecture of the best model\n",
    "print(\"Best model architecture:\")\n",
    "best_model.summary()"
   ]
  },
  {
   "cell_type": "code",
   "execution_count": null,
   "id": "8a8206ef",
   "metadata": {},
   "outputs": [],
   "source": [
    "# Train the best model with more epochs for better performance\n",
    "print(\"Training the best model...\")\n",
    "history = best_model.fit(X_train, y_train, epochs=10, batch_size=32, validation_split=0.2, verbose=1)\n",
    "print(\"Training completed!\")"
   ]
  },
  {
   "cell_type": "code",
   "execution_count": null,
   "id": "6673fd2c",
   "metadata": {},
   "outputs": [],
   "source": [
    "# Evaluate the best model on test data\n",
    "print(\"Evaluating the model on test data...\")\n",
    "test_loss, test_accuracy = best_model.evaluate(X_test, y_test, verbose=0)\n",
    "print(f\"Test Loss: {test_loss:.4f}\")\n",
    "print(f\"Test Accuracy: {test_accuracy:.4f} ({test_accuracy*100:.2f}%)\")"
   ]
  },
  {
   "cell_type": "markdown",
   "id": "aa07bf68",
   "metadata": {},
   "source": [
    "## 📊 Results and Analysis\n",
    "\n",
    "Now let's analyze our results and make predictions with the optimized model!"
   ]
  },
  {
   "cell_type": "code",
   "execution_count": null,
   "id": "ec93be74",
   "metadata": {},
   "outputs": [
    {
     "name": "stdout",
     "output_type": "stream",
     "text": [
      "\n",
      " first 10 predictions: [[0.47999245]\n",
      " [0.16034524]\n",
      " [0.13555957]\n",
      " [0.33093905]\n",
      " [0.43390277]\n",
      " [0.60662246]\n",
      " [0.04743034]\n",
      " [0.59419703]\n",
      " [0.518193  ]\n",
      " [0.5595619 ]]\n",
      "first 10 binary predictions: [0 0 0 0 0 1 0 1 1 1]\n",
      "first 10 actual labels: [0 0 0 0 0 0 0 0 0 0]\n"
     ]
    }
   ],
   "source": [
    "# Make predictions on test data and compare with actual labels\n",
    "print(\"Making predictions on test data...\")\n",
    "predictions = best_model.predict(X_test, verbose=0)\n",
    "\n",
    "# Convert probabilities to binary predictions (0 or 1)\n",
    "binary_predictions = (predictions > 0.5).astype(int)\n",
    "\n",
    "print(\"\\n=== Prediction Results ===\")\n",
    "print(f\"First 10 probability predictions: {predictions[:10].flatten()}\")\n",
    "print(f\"First 10 binary predictions:     {binary_predictions[:10].flatten()}\")\n",
    "print(f\"First 10 actual labels:          {y_test[:10]}\")\n",
    "\n",
    "# Calculate accuracy manually as verification\n",
    "correct_predictions = (binary_predictions.flatten() == y_test).sum()\n",
    "total_predictions = len(y_test)\n",
    "manual_accuracy = correct_predictions / total_predictions\n",
    "print(f\"\\nManual accuracy calculation: {correct_predictions}/{total_predictions} = {manual_accuracy:.4f} ({manual_accuracy*100:.2f}%)\")"
   ]
  },
  {
   "cell_type": "markdown",
   "id": "17728f85",
   "metadata": {},
   "source": [
    "## 🎯 Summary and Conclusions\n",
    "\n",
    "**Key Takeaways:**\n",
    "1. **Hyperparameter tuning improved our model performance** by automatically finding optimal settings\n",
    "2. **The process tested different combinations** of hidden layer sizes, optimizers, and learning rates\n",
    "3. **Automated tuning saves time** compared to manual trial-and-error approaches\n",
    "4. **The optimized model** achieved better results than our baseline model\n",
    "\n",
    "**What we learned:**\n",
    "- How to set up automated hyperparameter tuning with Keras Tuner\n",
    "- The importance of feature scaling for neural networks\n",
    "- How to compare model performance before and after optimization\n",
    "- Best practices for neural network architecture and training\n",
    "\n",
    "This approach can be applied to any neural network project to improve model performance! 🚀"
   ]
  }
 ],
 "metadata": {
  "kernelspec": {
   "display_name": ".venv",
   "language": "python",
   "name": "python3"
  },
  "language_info": {
   "codemirror_mode": {
    "name": "ipython",
    "version": 3
   },
   "file_extension": ".py",
   "mimetype": "text/x-python",
   "name": "python",
   "nbconvert_exporter": "python",
   "pygments_lexer": "ipython3",
   "version": "3.11.0"
  }
 },
 "nbformat": 4,
 "nbformat_minor": 5
}
